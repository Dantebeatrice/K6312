{
 "cells": [
  {
   "cell_type": "markdown",
   "metadata": {},
   "source": [
    "# Chapter 9 - Support Vector Machines"
   ]
  },
  {
   "cell_type": "code",
   "execution_count": 50,
   "metadata": {},
   "outputs": [],
   "source": [
    "# %load ../standard_import.txt\n",
    "import pandas as pd\n",
    "import numpy as np\n",
    "import matplotlib.pyplot as plt\n",
    "import seaborn as sns\n",
    "\n",
    "from sklearn.preprocessing import label_binarize\n",
    "#from sklearn.cross_validation import train_test_split\n",
    "from sklearn.model_selection import train_test_split\n",
    "#from sklearn.grid_search import GridSearchCV\n",
    "from sklearn.model_selection import GridSearchCV\n",
    "from sklearn.svm import SVC, LinearSVC\n",
    "from sklearn.discriminant_analysis import LinearDiscriminantAnalysis\n",
    "from sklearn.metrics import confusion_matrix, roc_curve, auc, classification_report\n",
    "\n",
    "pd.set_option('display.notebook_repr_html', True)\n",
    "# When True, IPython notebook will use html representation for pandas objects (if it is available).\n",
    "\n",
    "# make matplotlib graphics to show up inline.\n",
    "%matplotlib inline \n",
    "#plt.style.use('seaborn-white') # Select one of pre-defined styles provided by matplotlib."
   ]
  },
  {
   "cell_type": "markdown",
   "metadata": {},
   "source": [
    "## LAB"
   ]
  },
  {
   "cell_type": "markdown",
   "metadata": {},
   "source": [
    "### 9.6.1 Support Vector Classifier"
   ]
  },
  {
   "cell_type": "markdown",
   "metadata": {},
   "source": [
    "### Define a function to plot a classifier with support vectors."
   ]
  },
  {
   "cell_type": "code",
   "execution_count": 51,
   "metadata": {},
   "outputs": [],
   "source": [
    "def plot_svc(svc, X, y, h=0.02, pad=0.25):\n",
    "    x_min, x_max = X[:, 0].min()-pad, X[:, 0].max()+pad\n",
    "    y_min, y_max = X[:, 1].min()-pad, X[:, 1].max()+pad\n",
    "    xx, yy = np.meshgrid(np.arange(x_min, x_max, h), np.arange(y_min, y_max, h))\n",
    "    Z = svc.predict(np.c_[xx.ravel(), yy.ravel()])\n",
    "    Z = Z.reshape(xx.shape)\n",
    "    plt.contourf(xx, yy, Z, cmap=plt.cm.Paired, alpha=0.2)\n",
    "\n",
    "    plt.scatter(X[:,0], X[:,1], s=70, c=y, cmap=plt.cm.Paired)\n",
    "    # Support vectors indicated in plot by vertical lines\n",
    "    sv = svc.support_vectors_\n",
    "    plt.scatter(sv[:,0], sv[:,1], c='k', marker='|', s=100, linewidths='1')\n",
    "    plt.xlim(x_min, x_max)\n",
    "    plt.ylim(y_min, y_max)\n",
    "    plt.xlabel('X1')\n",
    "    plt.ylabel('X2')\n",
    "    plt.show()\n",
    "    print('Number of support vectors: ', svc.support_.size)"
   ]
  },
  {
   "cell_type": "markdown",
   "metadata": {},
   "source": [
    "### Generating random data: 20 observations of 2 features and divide into two classes."
   ]
  },
  {
   "cell_type": "code",
   "execution_count": 52,
   "metadata": {},
   "outputs": [],
   "source": [
    "np.random.seed(5)\n",
    "X = np.random.randn(20,2)\n",
    "y = np.repeat([1,-1], 10)"
   ]
  },
  {
   "cell_type": "code",
   "execution_count": 53,
   "metadata": {},
   "outputs": [
    {
     "data": {
      "text/plain": [
       "array([[ 0.44122749, -0.33087015],\n",
       "       [ 2.43077119, -0.25209213],\n",
       "       [ 0.10960984,  1.58248112],\n",
       "       [-0.9092324 , -0.59163666],\n",
       "       [ 0.18760323, -0.32986996],\n",
       "       [-1.19276461, -0.20487651],\n",
       "       [-0.35882895,  0.6034716 ],\n",
       "       [-1.66478853, -0.70017904],\n",
       "       [ 1.15139101,  1.85733101],\n",
       "       [-1.51117956,  0.64484751],\n",
       "       [-0.98060789, -0.85685315],\n",
       "       [-0.87187918, -0.42250793],\n",
       "       [ 0.99643983,  0.71242127],\n",
       "       [ 0.05914424, -0.36331088],\n",
       "       [ 0.00328884, -0.10593044],\n",
       "       [ 0.79305332, -0.63157163],\n",
       "       [-0.00619491, -0.10106761],\n",
       "       [-0.05230815,  0.24921766],\n",
       "       [ 0.19766009,  1.33484857],\n",
       "       [-0.08687561,  1.56153229]])"
      ]
     },
     "execution_count": 53,
     "metadata": {},
     "output_type": "execute_result"
    }
   ],
   "source": [
    "X"
   ]
  },
  {
   "cell_type": "code",
   "execution_count": 54,
   "metadata": {},
   "outputs": [
    {
     "data": {
      "text/plain": [
       "array([ 1,  1,  1,  1,  1,  1,  1,  1,  1,  1, -1, -1, -1, -1, -1, -1, -1,\n",
       "       -1, -1, -1])"
      ]
     },
     "execution_count": 54,
     "metadata": {},
     "output_type": "execute_result"
    }
   ],
   "source": [
    "y"
   ]
  },
  {
   "cell_type": "code",
   "execution_count": 55,
   "metadata": {},
   "outputs": [
    {
     "data": {
      "image/png": "[encoded data removed]",
      "text/plain": [
       "<Figure size 432x288 with 1 Axes>"
      ]
     },
     "metadata": {},
     "output_type": "display_data"
    }
   ],
   "source": [
    "X[y == -1] = X[y == -1] +1  # when y is -1, add 1 to x1 and x2\n",
    "                            # move \"y == -1\" class data to right and up by adding 1 from the original value\n",
    "plt.scatter(X[:,0], X[:,1], s=70, c=y, cmap=plt.cm.Paired) # s: size; c: color; cmap: color map\n",
    "# refer to: http://scipy.github.io/old-wiki/pages/Cookbook/Matplotlib/Show_colormaps\n",
    "# when y = 1, red color; when y = -1, blue color\n",
    "plt.xlabel('X1')\n",
    "plt.ylabel('X2')\n",
    "plt.show()  "
   ]
  },
  {
   "cell_type": "markdown",
   "metadata": {},
   "source": [
    "The two classes are not linearly separable"
   ]
  },
  {
   "cell_type": "code",
   "execution_count": 56,
   "metadata": {},
   "outputs": [],
   "source": [
    "tmp = np.random.randn(2,2)"
   ]
  },
  {
   "cell_type": "code",
   "execution_count": 57,
   "metadata": {},
   "outputs": [
    {
     "data": {
      "text/plain": [
       "array([[-0.30585302, -0.47773142],\n",
       "       [ 0.10073819,  0.35543847]])"
      ]
     },
     "execution_count": 57,
     "metadata": {},
     "output_type": "execute_result"
    }
   ],
   "source": [
    "tmp"
   ]
  },
  {
   "cell_type": "code",
   "execution_count": 58,
   "metadata": {},
   "outputs": [],
   "source": [
    "tmp = tmp + 1"
   ]
  },
  {
   "cell_type": "code",
   "execution_count": 59,
   "metadata": {},
   "outputs": [
    {
     "name": "stdout",
     "output_type": "stream",
     "text": [
      "[[0.69414698 0.52226858]\n",
      " [1.10073819 1.35543847]]\n"
     ]
    }
   ],
   "source": [
    "print (tmp)"
   ]
  },
  {
   "cell_type": "markdown",
   "metadata": {},
   "source": [
    "SVC function uses a slightly different formulation from (9.14) and (9.25) for the\n",
    "support vector classifier. A cost argument allows us to specify the cost of\n",
    "a violation to the margin. When the cost argument is small, then the margins\n",
    "will be wide and many support vectors will be on the margin or will\n",
    "violate the margin. When the cost argument is large, then the margins will\n",
    "be narrow and there will be few support vectors on the margin or violating\n",
    "the margin."
   ]
  },
  {
   "cell_type": "code",
   "execution_count": 60,
   "metadata": {},
   "outputs": [
    {
     "data": {
      "image/png": "[encoded data removed]",
      "text/plain": [
       "<Figure size 432x288 with 1 Axes>"
      ]
     },
     "metadata": {},
     "output_type": "display_data"
    },
    {
     "name": "stdout",
     "output_type": "stream",
     "text": [
      "Number of support vectors:  13\n"
     ]
    }
   ],
   "source": [
    "# Support Vector Classifier with linear kernel\n",
    "# http://scikit-learn.org/stable/modules/generated/sklearn.svm.SVC.html\n",
    "svc = SVC(C= 1.0, kernel='linear')\n",
    "svc.fit(X, y)\n",
    "\n",
    "plot_svc(svc, X, y)  # circles marked with vertical bar indicate support vectors."
   ]
  },
  {
   "cell_type": "code",
   "execution_count": 61,
   "metadata": {},
   "outputs": [
    {
     "data": {
      "image/png": "[encoded data removed]",
      "text/plain": [
       "<Figure size 432x288 with 1 Axes>"
      ]
     },
     "metadata": {},
     "output_type": "display_data"
    },
    {
     "name": "stdout",
     "output_type": "stream",
     "text": [
      "Number of support vectors:  16\n"
     ]
    }
   ],
   "source": [
    "# When using a smaller cost parameter (C=0.1) the margin is wider, resulting in more support vectors.\n",
    "svc2 = SVC(C=0.1, kernel='linear')\n",
    "svc2.fit(X, y)\n",
    "plot_svc(svc2, X, y)"
   ]
  },
  {
   "cell_type": "code",
   "execution_count": 62,
   "metadata": {},
   "outputs": [
    {
     "data": {
      "text/plain": [
       "array([0.8 , 0.8 , 0.8 , 0.75, 0.75, 0.75, 0.75])"
      ]
     },
     "execution_count": 62,
     "metadata": {},
     "output_type": "execute_result"
    }
   ],
   "source": [
    "# Select the optimal C parameter by cross-validation\n",
    "# http://scikit-learn.org/stable/modules/generated/sklearn.model_selection.GridSearchCV.html\n",
    "tuned_parameters = [{'C': [0.001, 0.01, 0.1, 1, 5, 10, 100]}]\n",
    "clf = GridSearchCV(SVC(kernel='linear'), tuned_parameters, cv=10, scoring='accuracy')\n",
    "clf.fit(X, y)\n",
    "# clf.grid_scores_\n",
    "clf.cv_results_['mean_test_score'] # when  C == 0.001, result is 0.8"
   ]
  },
  {
   "cell_type": "code",
   "execution_count": 63,
   "metadata": {},
   "outputs": [
    {
     "data": {
      "text/plain": [
       "{'C': 0.001}"
      ]
     },
     "execution_count": 63,
     "metadata": {},
     "output_type": "execute_result"
    }
   ],
   "source": [
    "# 0.001 is best according to GridSearchCV. \n",
    "clf.best_params_"
   ]
  },
  {
   "cell_type": "markdown",
   "metadata": {},
   "source": [
    "### Generating test data"
   ]
  },
  {
   "cell_type": "code",
   "execution_count": 64,
   "metadata": {},
   "outputs": [
    {
     "data": {
      "image/png": "[encoded data removed]",
      "text/plain": [
       "<Figure size 432x288 with 1 Axes>"
      ]
     },
     "metadata": {},
     "output_type": "display_data"
    }
   ],
   "source": [
    "np.random.seed(1)\n",
    "X_test = np.random.randn(20,2)\n",
    "y_test = np.random.choice([-1,1], 20)\n",
    "X_test[y_test == 1] = X_test[y_test == 1] -1  # move class1 data to left and down by detucting 1 from the original value\n",
    "\n",
    "plt.scatter(X_test[:,0], X_test[:,1], s=70, c=y_test, cmap=plt.cm.Paired)\n",
    "plt.xlabel('X1')\n",
    "plt.ylabel('X2');\n",
    "plt.show()  # when y = 1, red color; when y = -1, blue color"
   ]
  },
  {
   "cell_type": "code",
   "execution_count": 65,
   "metadata": {},
   "outputs": [
    {
     "data": {
      "text/plain": [
       "array([-1,  1,  1,  1,  1,  1,  1, -1, -1,  1,  1, -1, -1,  1, -1, -1, -1,\n",
       "        1,  1,  1])"
      ]
     },
     "execution_count": 65,
     "metadata": {},
     "output_type": "execute_result"
    }
   ],
   "source": [
    "y_test"
   ]
  },
  {
   "cell_type": "code",
   "execution_count": 66,
   "metadata": {},
   "outputs": [
    {
     "data": {
      "text/html": [
       "<div>\n",
       "<style scoped>\n",
       "    .dataframe tbody tr th:only-of-type {\n",
       "        vertical-align: middle;\n",
       "    }\n",
       "\n",
       "    .dataframe tbody tr th {\n",
       "        vertical-align: top;\n",
       "    }\n",
       "\n",
       "    .dataframe thead th {\n",
       "        text-align: right;\n",
       "    }\n",
       "</style>\n",
       "<table border=\"1\" class=\"dataframe\">\n",
       "  <thead>\n",
       "    <tr style=\"text-align: right;\">\n",
       "      <th></th>\n",
       "      <th>-1</th>\n",
       "      <th>1</th>\n",
       "    </tr>\n",
       "  </thead>\n",
       "  <tbody>\n",
       "    <tr>\n",
       "      <th>-1</th>\n",
       "      <td>2</td>\n",
       "      <td>6</td>\n",
       "    </tr>\n",
       "    <tr>\n",
       "      <th>1</th>\n",
       "      <td>0</td>\n",
       "      <td>12</td>\n",
       "    </tr>\n",
       "  </tbody>\n",
       "</table>\n",
       "</div>"
      ],
      "text/plain": [
       "    -1   1\n",
       "-1   2   6\n",
       " 1   0  12"
      ]
     },
     "execution_count": 66,
     "metadata": {},
     "output_type": "execute_result"
    }
   ],
   "source": [
    "# svc2 : C = 0.1\n",
    "y_pred = svc2.predict(X_test)\n",
    "pd.DataFrame(confusion_matrix(y_test, y_pred),index=svc2.classes_, columns=svc2.classes_)"
   ]
  },
  {
   "cell_type": "code",
   "execution_count": 67,
   "metadata": {},
   "outputs": [
    {
     "data": {
      "text/html": [
       "<div>\n",
       "<style scoped>\n",
       "    .dataframe tbody tr th:only-of-type {\n",
       "        vertical-align: middle;\n",
       "    }\n",
       "\n",
       "    .dataframe tbody tr th {\n",
       "        vertical-align: top;\n",
       "    }\n",
       "\n",
       "    .dataframe thead th {\n",
       "        text-align: right;\n",
       "    }\n",
       "</style>\n",
       "<table border=\"1\" class=\"dataframe\">\n",
       "  <thead>\n",
       "    <tr style=\"text-align: right;\">\n",
       "      <th></th>\n",
       "      <th>-1</th>\n",
       "      <th>1</th>\n",
       "    </tr>\n",
       "  </thead>\n",
       "  <tbody>\n",
       "    <tr>\n",
       "      <th>-1</th>\n",
       "      <td>2</td>\n",
       "      <td>6</td>\n",
       "    </tr>\n",
       "    <tr>\n",
       "      <th>1</th>\n",
       "      <td>0</td>\n",
       "      <td>12</td>\n",
       "    </tr>\n",
       "  </tbody>\n",
       "</table>\n",
       "</div>"
      ],
      "text/plain": [
       "    -1   1\n",
       "-1   2   6\n",
       " 1   0  12"
      ]
     },
     "execution_count": 67,
     "metadata": {},
     "output_type": "execute_result"
    }
   ],
   "source": [
    "svc3 = SVC(C=0.001, kernel='linear') # best c value from 10-CV\n",
    "svc3.fit(X, y)\n",
    "\n",
    "# svc3 : C = 0.001\n",
    "y_pred = svc3.predict(X_test)\n",
    "pd.DataFrame(confusion_matrix(y_test, y_pred), index=svc3.classes_, columns=svc3.classes_)\n",
    "# The misclassification is the same"
   ]
  },
  {
   "cell_type": "code",
   "execution_count": 68,
   "metadata": {},
   "outputs": [
    {
     "name": "stdout",
     "output_type": "stream",
     "text": [
      "True       -1   1\n",
      "Predicted        \n",
      "-1          2   0\n",
      " 1          6  12\n"
     ]
    }
   ],
   "source": [
    "cm = confusion_matrix(y_test, y_pred)\n",
    "cm_df = pd.DataFrame(cm.T, index=svc3.classes_, columns=svc3.classes_)\n",
    "cm_df.index.name = 'Predicted'\n",
    "cm_df.columns.name = 'True'\n",
    "print(cm_df)"
   ]
  },
  {
   "cell_type": "markdown",
   "metadata": {},
   "source": [
    "### Changing the test data so that the classes are really separable with a hyperplane."
   ]
  },
  {
   "cell_type": "code",
   "execution_count": 69,
   "metadata": {},
   "outputs": [
    {
     "data": {
      "image/png": "[encoded data removed]",
      "text/plain": [
       "<Figure size 432x288 with 1 Axes>"
      ]
     },
     "metadata": {},
     "output_type": "display_data"
    }
   ],
   "source": [
    "X_test[y_test == 1] = X_test[y_test == 1] -1\n",
    "plt.scatter(X_test[:,0], X_test[:,1], s=70, c=y_test, cmap=plt.cm.Paired)\n",
    "plt.xlabel('X1')\n",
    "plt.ylabel('X2')\n",
    "plt.show()"
   ]
  },
  {
   "cell_type": "markdown",
   "metadata": {},
   "source": [
    "We fit the support\n",
    "vector classifier and plot the resulting hyperplane, using a large value\n",
    "of cost so that no observations are misclassified."
   ]
  },
  {
   "cell_type": "code",
   "execution_count": 70,
   "metadata": {},
   "outputs": [
    {
     "data": {
      "text/plain": [
       "SVC(C=10.0, cache_size=200, class_weight=None, coef0=0.0,\n",
       "  decision_function_shape='ovr', degree=3, gamma='auto', kernel='linear',\n",
       "  max_iter=-1, probability=False, random_state=None, shrinking=True,\n",
       "  tol=0.001, verbose=False)"
      ]
     },
     "execution_count": 70,
     "metadata": {},
     "output_type": "execute_result"
    }
   ],
   "source": [
    "svc4 = SVC(C=10.0, kernel='linear')\n",
    "svc4.fit(X_test, y_test)  # note that the model is learned with test data for dicision boundary demonstration"
   ]
  },
  {
   "cell_type": "code",
   "execution_count": 71,
   "metadata": {},
   "outputs": [
    {
     "data": {
      "image/png": "[encoded data removed]",
      "text/plain": [
       "<Figure size 432x288 with 1 Axes>"
      ]
     },
     "metadata": {},
     "output_type": "display_data"
    },
    {
     "name": "stdout",
     "output_type": "stream",
     "text": [
      "Number of support vectors:  4\n"
     ]
    }
   ],
   "source": [
    "plot_svc(svc4, X_test, y_test)"
   ]
  },
  {
   "cell_type": "markdown",
   "metadata": {},
   "source": [
    "No training errors were made and only four support vectors were used.\n",
    "However, we can see from the figure that the margin is very narrow (because\n",
    "the observations that are not support vectors, indicated as circles, are very close to the decision boundary). It seems likely that this model will perform\n",
    "poorly on test data. We now try a smaller value of cost:"
   ]
  },
  {
   "cell_type": "code",
   "execution_count": 72,
   "metadata": {},
   "outputs": [
    {
     "data": {
      "text/plain": [
       "SVC(C=1, cache_size=200, class_weight=None, coef0=0.0,\n",
       "  decision_function_shape='ovr', degree=3, gamma='auto', kernel='linear',\n",
       "  max_iter=-1, probability=False, random_state=None, shrinking=True,\n",
       "  tol=0.001, verbose=False)"
      ]
     },
     "execution_count": 72,
     "metadata": {},
     "output_type": "execute_result"
    }
   ],
   "source": [
    "# Increase the margin. Now there is one misclassification: increased bias, lower variance.\n",
    "svc5 = SVC(C=1, kernel='linear')\n",
    "svc5.fit(X_test, y_test)"
   ]
  },
  {
   "cell_type": "code",
   "execution_count": 73,
   "metadata": {},
   "outputs": [
    {
     "data": {
      "image/png": "[encoded data removed]",
      "text/plain": [
       "<Figure size 432x288 with 1 Axes>"
      ]
     },
     "metadata": {},
     "output_type": "display_data"
    },
    {
     "name": "stdout",
     "output_type": "stream",
     "text": [
      "Number of support vectors:  5\n"
     ]
    }
   ],
   "source": [
    "plot_svc(svc5, X_test, y_test)"
   ]
  },
  {
   "cell_type": "markdown",
   "metadata": {},
   "source": [
    "Using cost=1, we misclassify a training observation, but we also obtain\n",
    "a much wider margin and make use of five support vectors. It seems\n",
    "likely that this model will perform better on test data than the model with cost=10"
   ]
  },
  {
   "cell_type": "markdown",
   "metadata": {},
   "source": [
    "### 9.6.2 Support Vector Machine \n",
    "Generating sample data with a non-linear class boundary"
   ]
  },
  {
   "cell_type": "code",
   "execution_count": 74,
   "metadata": {},
   "outputs": [
    {
     "data": {
      "image/png": "[encoded data removed]",
      "text/plain": [
       "<Figure size 432x288 with 1 Axes>"
      ]
     },
     "metadata": {},
     "output_type": "display_data"
    }
   ],
   "source": [
    "# Generating sample data with a non-linear class boundary\n",
    "np.random.seed(8)\n",
    "X = np.random.randn(200,2)\n",
    "X[:100] = X[:100] +2        # move -1 class data to right and up by adding 2 from the original value\n",
    "X[101:150] = X[101:150] -2  # move -1 class data to left and down by detucting 2 from the original value\n",
    "y = np.concatenate([np.repeat(-1, 150), np.repeat(1,50)])\n",
    "\n",
    "X_train, X_test, y_train, y_test = train_test_split(X, y, test_size=0.5, random_state=2)\n",
    "\n",
    "plt.scatter(X[:,0], X[:,1], s=70, c=y, cmap=plt.cm.Paired)\n",
    "plt.xlabel('X1')\n",
    "plt.ylabel('X2')\n",
    "plt.show()  # when y = 1, red color; when y = -1, blue color"
   ]
  },
  {
   "cell_type": "code",
   "execution_count": 75,
   "metadata": {},
   "outputs": [
    {
     "data": {
      "text/plain": [
       "array([[ 2.09120472,  3.09128273],\n",
       "       [ 0.05302969,  0.61365047],\n",
       "       [-0.29649157,  4.4098343 ],\n",
       "       [ 3.72783617,  4.20455628],\n",
       "       [ 2.79482764,  2.9764211 ],\n",
       "       [ 0.81657285,  3.91636361],\n",
       "       [ 0.8766732 ,  1.33596453],\n",
       "       [ 1.62164143,  1.20838473],\n",
       "       [ 2.85954811,  1.769211  ],\n",
       "       [ 1.93433897,  1.79136377],\n",
       "       [ 3.34686857,  1.3930472 ],\n",
       "       [ 1.82575179,  2.42405142],\n",
       "       [ 0.3540099 ,  1.51645905],\n",
       "       [ 2.53546825,  3.16614049],\n",
       "       [ 2.16168311,  1.32716607],\n",
       "       [ 3.44252413,  1.77851939],\n",
       "       [ 2.03126431,  2.18192959],\n",
       "       [ 1.93707127,  1.45843154],\n",
       "       [ 2.47451842,  0.83540883],\n",
       "       [ 1.49909061,  1.59143904],\n",
       "       [ 1.06565164,  2.08451015],\n",
       "       [ 2.14369102,  2.07554944],\n",
       "       [ 1.8443549 ,  2.55085006],\n",
       "       [ 3.70202996,  3.0060937 ],\n",
       "       [-1.13491977,  3.1395335 ],\n",
       "       [ 0.13020064,  0.22088696],\n",
       "       [ 2.1277629 ,  0.64898224],\n",
       "       [ 3.5539672 ,  2.69696575],\n",
       "       [ 1.18853885,  0.35674907],\n",
       "       [ 2.33065887,  3.22495627],\n",
       "       [ 2.09617157,  3.87681542],\n",
       "       [ 2.53378058,  2.79836004],\n",
       "       [ 1.6939255 ,  2.37797389],\n",
       "       [ 1.77352195,  0.11425546],\n",
       "       [ 4.47251097,  1.85314341],\n",
       "       [ 2.1156492 ,  3.33043062],\n",
       "       [ 2.10959471,  2.21547907],\n",
       "       [ 2.42907009,  0.84873438],\n",
       "       [ 3.52475348,  2.36053585],\n",
       "       [ 1.38910698,  2.93024603],\n",
       "       [ 2.35651302,  1.0478394 ],\n",
       "       [ 2.15192779,  2.00063489],\n",
       "       [ 2.33502323,  2.37479939],\n",
       "       [ 2.71381616,  0.79918652],\n",
       "       [ 2.00138116,  1.07853997],\n",
       "       [ 2.49622787,  0.66833333],\n",
       "       [-0.19057049,  1.56392794],\n",
       "       [ 4.54508722,  3.15008128],\n",
       "       [ 2.08444547,  4.4862478 ],\n",
       "       [ 1.8056446 ,  1.81378665],\n",
       "       [ 2.85386286,  2.3073787 ],\n",
       "       [ 1.92775788,  1.53115233],\n",
       "       [ 1.93456109,  3.05261111],\n",
       "       [ 0.69036678,  1.3312736 ],\n",
       "       [ 3.34137407,  4.53135684],\n",
       "       [ 0.15945146,  2.40504117],\n",
       "       [ 3.63230053,  1.77726086],\n",
       "       [ 1.42220084,  3.24217576],\n",
       "       [ 1.4465289 ,  1.27731058],\n",
       "       [ 1.42845036,  0.60999683],\n",
       "       [-0.39521314,  3.15401648],\n",
       "       [ 3.68809504,  2.22378562],\n",
       "       [ 1.79838449,  2.49964511],\n",
       "       [ 1.8186619 ,  0.25018474],\n",
       "       [ 0.78958277,  2.42424152],\n",
       "       [ 1.61119839,  0.44346421],\n",
       "       [ 0.56079092,  2.94892731],\n",
       "       [ 0.4734678 ,  3.13687007],\n",
       "       [ 2.48452566,  0.99816339],\n",
       "       [ 1.68154515,  2.1581261 ],\n",
       "       [ 2.36086011,  2.25545833],\n",
       "       [ 3.426058  ,  2.92725071],\n",
       "       [ 1.48943654,  1.82843286],\n",
       "       [ 1.089604  ,  1.47711913],\n",
       "       [ 2.07399013, -0.34678306],\n",
       "       [ 2.0997458 ,  1.95361983],\n",
       "       [ 1.75236386,  0.69463088],\n",
       "       [ 1.423701  ,  1.23552967],\n",
       "       [ 1.93925065, -0.43448243],\n",
       "       [ 1.66901327,  2.47264138],\n",
       "       [ 1.11483159,  1.05597354],\n",
       "       [ 2.73457354,  4.64294292],\n",
       "       [ 2.61175799,  2.65766052],\n",
       "       [ 2.04604598,  2.77026263],\n",
       "       [ 2.59305273,  1.06655642],\n",
       "       [ 2.37543325,  2.91979077],\n",
       "       [ 1.28586248,  2.37450608],\n",
       "       [ 3.25719891,  2.97610353],\n",
       "       [ 1.97778179,  4.06593628],\n",
       "       [ 3.03190655,  1.7506653 ],\n",
       "       [ 0.03094408,  1.67303168],\n",
       "       [ 2.13393915,  1.61881061],\n",
       "       [ 2.02482504,  3.6381103 ],\n",
       "       [ 2.8196829 ,  3.34649478],\n",
       "       [ 0.62523476,  2.00963122],\n",
       "       [ 3.33143337,  1.17242195],\n",
       "       [ 3.93494274,  0.72510773],\n",
       "       [ 1.34311244,  3.51322805],\n",
       "       [-0.18423032,  2.7989106 ],\n",
       "       [ 0.72541158,  0.82705629],\n",
       "       [ 0.02955568, -0.07404306],\n",
       "       [-1.45716886, -2.16888332],\n",
       "       [-2.32025901, -3.19455274],\n",
       "       [-1.73854218, -4.50817148],\n",
       "       [-1.3778459 , -1.80777625],\n",
       "       [-0.64641406, -0.60849164],\n",
       "       [-3.4449152 , -1.42496427],\n",
       "       [-2.81509031, -2.52188485],\n",
       "       [-1.24058936, -1.55749554],\n",
       "       [-1.56206865, -2.09078296],\n",
       "       [-1.82295965, -3.13414072],\n",
       "       [-2.65272049, -1.40824545],\n",
       "       [-3.18981569, -2.64894944],\n",
       "       [-1.26438113, -2.0559089 ],\n",
       "       [-2.83924572, -1.71724032],\n",
       "       [-0.70963813, -2.99571657],\n",
       "       [-3.5342363 , -1.89469592],\n",
       "       [-2.88456726, -2.36755661],\n",
       "       [-2.57863054, -2.90804303],\n",
       "       [-2.06276836, -1.83200961],\n",
       "       [-3.12177333, -1.04005683],\n",
       "       [-0.70886688, -2.24150177],\n",
       "       [-1.87150035, -0.55114341],\n",
       "       [-3.36012739, -3.1373733 ],\n",
       "       [-2.44820917, -2.11437262],\n",
       "       [-1.46259295, -1.83692936],\n",
       "       [-3.94290072, -1.0212582 ],\n",
       "       [-0.86659079, -3.04422436],\n",
       "       [-1.54449199, -2.72617486],\n",
       "       [-2.50917077, -2.77781332],\n",
       "       [-0.52556391, -2.96359636],\n",
       "       [-2.14344505, -1.5453976 ],\n",
       "       [-2.96339884, -2.35027672],\n",
       "       [-2.19911851, -0.38760957],\n",
       "       [-3.3678745 , -2.08073622],\n",
       "       [-1.85655876, -2.34264403],\n",
       "       [-0.70215687, -2.06731005],\n",
       "       [-2.50082001, -1.23665872],\n",
       "       [-0.79130889, -2.9073399 ],\n",
       "       [-1.18058763, -1.33782272],\n",
       "       [-2.08840837, -2.84004502],\n",
       "       [-1.15517575, -1.38696727],\n",
       "       [-2.98119608, -2.53216015],\n",
       "       [-0.27616093, -2.68648424],\n",
       "       [-4.07860947, -2.32270309],\n",
       "       [-1.86670097, -1.30178982],\n",
       "       [-2.41067276, -0.04083284],\n",
       "       [-2.49435984, -1.8118451 ],\n",
       "       [-0.90377382, -1.92589257],\n",
       "       [-4.41450346, -1.29180336],\n",
       "       [ 0.25501456, -0.68442876],\n",
       "       [ 1.14789767,  1.06593639],\n",
       "       [-0.53727104, -1.47656592],\n",
       "       [-1.80838486, -0.18966273],\n",
       "       [-0.59232372, -0.14480357],\n",
       "       [-2.68612078, -0.02024066],\n",
       "       [-1.26427063, -0.40183578],\n",
       "       [ 2.20627948, -0.03269428],\n",
       "       [ 0.98764596,  0.37099113],\n",
       "       [ 0.71655668,  0.14256447],\n",
       "       [-0.1460668 ,  1.08580491],\n",
       "       [-1.2950144 , -0.63324705],\n",
       "       [ 0.50190196,  0.17031622],\n",
       "       [ 2.04652928,  0.0701515 ],\n",
       "       [-0.0531221 ,  0.35394512],\n",
       "       [-1.49394832,  1.50269297],\n",
       "       [-0.31156467,  0.64821678],\n",
       "       [-0.81269669, -1.35988742],\n",
       "       [-0.07334936, -0.22608517],\n",
       "       [ 0.54040946, -0.51260263],\n",
       "       [ 2.48547171,  0.14690964],\n",
       "       [-1.14381329, -0.05863584],\n",
       "       [ 1.38799428,  0.15122717],\n",
       "       [-0.97525219, -0.52277679],\n",
       "       [ 0.76325952,  1.47687993],\n",
       "       [-0.7613155 ,  1.42711683],\n",
       "       [-0.75278761,  2.03596714],\n",
       "       [-0.2484897 , -1.2566265 ],\n",
       "       [-0.28426273, -0.05159334],\n",
       "       [ 0.74130414,  1.05448095],\n",
       "       [ 0.565817  , -0.99052028],\n",
       "       [ 0.07248513, -0.37270749],\n",
       "       [ 0.10276298, -0.4036593 ],\n",
       "       [-0.7778395 ,  2.58088512],\n",
       "       [-0.36641793, -1.83728181],\n",
       "       [-0.44848299,  1.12556928],\n",
       "       [ 0.46336078, -0.87519846],\n",
       "       [ 1.01411068,  2.22260127],\n",
       "       [-1.44032517, -0.00786724],\n",
       "       [ 0.7204589 ,  1.2194791 ],\n",
       "       [ 0.29984818,  0.94615567],\n",
       "       [-1.11411887,  1.49322011],\n",
       "       [-0.86512186, -1.98593098],\n",
       "       [ 0.11737178,  0.00805618],\n",
       "       [-0.98393081, -0.54131379],\n",
       "       [ 0.36099372, -0.47302205],\n",
       "       [-0.67000276,  0.77030502],\n",
       "       [ 0.5626868 , -0.99333804],\n",
       "       [-0.04476425, -0.69245304],\n",
       "       [ 0.2113841 ,  0.71028161]])"
      ]
     },
     "execution_count": 75,
     "metadata": {},
     "output_type": "execute_result"
    }
   ],
   "source": [
    "X"
   ]
  },
  {
   "cell_type": "code",
   "execution_count": 76,
   "metadata": {},
   "outputs": [
    {
     "data": {
      "text/plain": [
       "array([-1, -1, -1, -1, -1, -1, -1, -1, -1, -1, -1, -1, -1, -1, -1, -1, -1,\n",
       "       -1, -1, -1, -1, -1, -1, -1, -1, -1, -1, -1, -1, -1, -1, -1, -1, -1,\n",
       "       -1, -1, -1, -1, -1, -1, -1, -1, -1, -1, -1, -1, -1, -1, -1, -1, -1,\n",
       "       -1, -1, -1, -1, -1, -1, -1, -1, -1, -1, -1, -1, -1, -1, -1, -1, -1,\n",
       "       -1, -1, -1, -1, -1, -1, -1, -1, -1, -1, -1, -1, -1, -1, -1, -1, -1,\n",
       "       -1, -1, -1, -1, -1, -1, -1, -1, -1, -1, -1, -1, -1, -1, -1, -1, -1,\n",
       "       -1, -1, -1, -1, -1, -1, -1, -1, -1, -1, -1, -1, -1, -1, -1, -1, -1,\n",
       "       -1, -1, -1, -1, -1, -1, -1, -1, -1, -1, -1, -1, -1, -1, -1, -1, -1,\n",
       "       -1, -1, -1, -1, -1, -1, -1, -1, -1, -1, -1, -1, -1, -1,  1,  1,  1,\n",
       "        1,  1,  1,  1,  1,  1,  1,  1,  1,  1,  1,  1,  1,  1,  1,  1,  1,\n",
       "        1,  1,  1,  1,  1,  1,  1,  1,  1,  1,  1,  1,  1,  1,  1,  1,  1,\n",
       "        1,  1,  1,  1,  1,  1,  1,  1,  1,  1,  1,  1,  1])"
      ]
     },
     "execution_count": 76,
     "metadata": {},
     "output_type": "execute_result"
    }
   ],
   "source": [
    "y"
   ]
  },
  {
   "cell_type": "code",
   "execution_count": 77,
   "metadata": {},
   "outputs": [
    {
     "data": {
      "text/plain": [
       "SVC(C=1.0, cache_size=200, class_weight=None, coef0=0.0,\n",
       "  decision_function_shape='ovr', degree=3, gamma=1, kernel='rbf',\n",
       "  max_iter=-1, probability=False, random_state=None, shrinking=True,\n",
       "  tol=0.001, verbose=False)"
      ]
     },
     "execution_count": 77,
     "metadata": {},
     "output_type": "execute_result"
    }
   ],
   "source": [
    "svm = SVC(C=1.0, kernel='rbf', gamma=1)\n",
    "svm.fit(X_train, y_train)"
   ]
  },
  {
   "cell_type": "code",
   "execution_count": 78,
   "metadata": {},
   "outputs": [
    {
     "data": {
      "image/png": "[encoded data removed]",
      "text/plain": [
       "<Figure size 432x288 with 1 Axes>"
      ]
     },
     "metadata": {},
     "output_type": "display_data"
    },
    {
     "name": "stdout",
     "output_type": "stream",
     "text": [
      "Number of support vectors:  51\n"
     ]
    }
   ],
   "source": [
    "plot_svc(svm, X_train, y_train)"
   ]
  },
  {
   "cell_type": "markdown",
   "metadata": {},
   "source": [
    "We can see from the figure that there are a fair number of training errors\n",
    "in this SVM fit. If we increase the value of cost, we can reduce the number\n",
    "of training errors. However, this comes at the price of a more irregular\n",
    "decision boundary that seems to be at risk of overfitting the data."
   ]
  },
  {
   "cell_type": "code",
   "execution_count": 79,
   "metadata": {},
   "outputs": [
    {
     "data": {
      "text/plain": [
       "SVC(C=100, cache_size=200, class_weight=None, coef0=0.0,\n",
       "  decision_function_shape='ovr', degree=3, gamma=1.0, kernel='rbf',\n",
       "  max_iter=-1, probability=False, random_state=None, shrinking=True,\n",
       "  tol=0.001, verbose=False)"
      ]
     },
     "execution_count": 79,
     "metadata": {},
     "output_type": "execute_result"
    }
   ],
   "source": [
    "# Increasing C parameter, allowing more flexibility\n",
    "svm2 = SVC(C=100, kernel='rbf', gamma=1.0)\n",
    "svm2.fit(X_train, y_train)"
   ]
  },
  {
   "cell_type": "code",
   "execution_count": 80,
   "metadata": {},
   "outputs": [
    {
     "data": {
      "image/png": "[encoded data removed]",
      "text/plain": [
       "<Figure size 432x288 with 1 Axes>"
      ]
     },
     "metadata": {},
     "output_type": "display_data"
    },
    {
     "name": "stdout",
     "output_type": "stream",
     "text": [
      "Number of support vectors:  36\n"
     ]
    }
   ],
   "source": [
    "plot_svc(svm2, X_train, y_train) # the number of training errors is reduced by overfitting the data"
   ]
  },
  {
   "cell_type": "code",
   "execution_count": 81,
   "metadata": {},
   "outputs": [
    {
     "name": "stdout",
     "output_type": "stream",
     "text": [
      "[0.77 0.77 0.77 0.77 0.77 0.77 0.77 0.77 0.77 0.77 0.92 0.92 0.9  0.88\n",
      " 0.85 0.92 0.89 0.86 0.86 0.87 0.84 0.83 0.86 0.87 0.87]\n",
      "[{'C': 0.01, 'gamma': 0.5}, {'C': 0.01, 'gamma': 1}, {'C': 0.01, 'gamma': 2}, {'C': 0.01, 'gamma': 3}, {'C': 0.01, 'gamma': 4}, {'C': 0.1, 'gamma': 0.5}, {'C': 0.1, 'gamma': 1}, {'C': 0.1, 'gamma': 2}, {'C': 0.1, 'gamma': 3}, {'C': 0.1, 'gamma': 4}, {'C': 1, 'gamma': 0.5}, {'C': 1, 'gamma': 1}, {'C': 1, 'gamma': 2}, {'C': 1, 'gamma': 3}, {'C': 1, 'gamma': 4}, {'C': 10, 'gamma': 0.5}, {'C': 10, 'gamma': 1}, {'C': 10, 'gamma': 2}, {'C': 10, 'gamma': 3}, {'C': 10, 'gamma': 4}, {'C': 100, 'gamma': 0.5}, {'C': 100, 'gamma': 1}, {'C': 100, 'gamma': 2}, {'C': 100, 'gamma': 3}, {'C': 100, 'gamma': 4}]\n"
     ]
    }
   ],
   "source": [
    "# Set the parameters by cross-validation\n",
    "tuned_parameters = [{'C': [0.01, 0.1, 1, 10, 100],\n",
    "                     'gamma': [0.5, 1,2,3,4]}]\n",
    "clf = GridSearchCV(SVC(kernel='rbf'), tuned_parameters, cv=10, scoring='accuracy')\n",
    "clf.fit(X_train, y_train)\n",
    "#clf.grid_scores_\n",
    "#clf.cv_results_\n",
    "print(clf.cv_results_['mean_test_score'])\n",
    "print(clf.cv_results_['params'])"
   ]
  },
  {
   "cell_type": "code",
   "execution_count": 82,
   "metadata": {},
   "outputs": [
    {
     "data": {
      "text/plain": [
       "{'C': 1, 'gamma': 0.5}"
      ]
     },
     "execution_count": 82,
     "metadata": {},
     "output_type": "execute_result"
    }
   ],
   "source": [
    "clf.best_params_"
   ]
  },
  {
   "cell_type": "code",
   "execution_count": 83,
   "metadata": {},
   "outputs": [
    {
     "data": {
      "text/plain": [
       "array([[67,  6],\n",
       "       [ 9, 18]], dtype=int64)"
      ]
     },
     "execution_count": 83,
     "metadata": {},
     "output_type": "execute_result"
    }
   ],
   "source": [
    "confusion_matrix(y_test, clf.best_estimator_.predict(X_test))"
   ]
  },
  {
   "cell_type": "code",
   "execution_count": 84,
   "metadata": {},
   "outputs": [
    {
     "data": {
      "text/plain": [
       "0.85"
      ]
     },
     "execution_count": 84,
     "metadata": {},
     "output_type": "execute_result"
    }
   ],
   "source": [
    "# 15% of test observations misclassified\n",
    "clf.best_estimator_.score(X_test, y_test)"
   ]
  },
  {
   "cell_type": "markdown",
   "metadata": {},
   "source": [
    "### 9.6.3 ROC Curves"
   ]
  },
  {
   "cell_type": "markdown",
   "metadata": {},
   "source": [
    "Comparing the ROC curves of two models on train/test data. One model is more flexible than the other."
   ]
  },
  {
   "cell_type": "code",
   "execution_count": 85,
   "metadata": {},
   "outputs": [
    {
     "data": {
      "text/plain": [
       "SVC(C=1, cache_size=200, class_weight=None, coef0=0.0,\n",
       "  decision_function_shape='ovr', degree=3, gamma=2, kernel='rbf',\n",
       "  max_iter=-1, probability=False, random_state=None, shrinking=True,\n",
       "  tol=0.001, verbose=False)"
      ]
     },
     "execution_count": 85,
     "metadata": {},
     "output_type": "execute_result"
    }
   ],
   "source": [
    "svm3 = SVC(C=1, kernel='rbf', gamma=2)\n",
    "svm3.fit(X_train, y_train)"
   ]
  },
  {
   "cell_type": "code",
   "execution_count": 86,
   "metadata": {},
   "outputs": [
    {
     "data": {
      "text/plain": [
       "SVC(C=1, cache_size=200, class_weight=None, coef0=0.0,\n",
       "  decision_function_shape='ovr', degree=3, gamma=50, kernel='rbf',\n",
       "  max_iter=-1, probability=False, random_state=None, shrinking=True,\n",
       "  tol=0.001, verbose=False)"
      ]
     },
     "execution_count": 86,
     "metadata": {},
     "output_type": "execute_result"
    }
   ],
   "source": [
    "# By increasing γ we can produce a more flexible fit\n",
    "svm4 = SVC(C=1, kernel='rbf', gamma=50)\n",
    "svm4.fit(X_train, y_train)"
   ]
  },
  {
   "cell_type": "code",
   "execution_count": 87,
   "metadata": {},
   "outputs": [
    {
     "data": {
      "image/png": "[encoded data removed]",
      "text/plain": [
       "<Figure size 1008x432 with 2 Axes>"
      ]
     },
     "metadata": {},
     "output_type": "display_data"
    }
   ],
   "source": [
    "y_train_score3 = svm3.decision_function(X_train) # Distance of the samples X_train to the separating hyperplane.\n",
    "y_train_score4 = svm4.decision_function(X_train)\n",
    "\n",
    "false_pos_rate3, true_pos_rate3, _ = roc_curve(y_train, y_train_score3)\n",
    "roc_auc3 = auc(false_pos_rate3, true_pos_rate3)\n",
    "\n",
    "false_pos_rate4, true_pos_rate4, _ = roc_curve(y_train, y_train_score4)\n",
    "roc_auc4 = auc(false_pos_rate4, true_pos_rate4)\n",
    "\n",
    "fig, (ax1,ax2) = plt.subplots(1, 2, figsize=(14,6))\n",
    "ax1.plot(false_pos_rate3, true_pos_rate3, label='SVM $\\gamma = 2$ ROC curve (area = %0.2f)' % roc_auc3, color='b')\n",
    "ax1.plot(false_pos_rate4, true_pos_rate4, label='SVM $\\gamma = 50$ ROC curve (area = %0.2f)' % roc_auc4, color='r')\n",
    "ax1.set_title('Training Data')\n",
    "\n",
    "y_test_score3 = svm3.decision_function(X_test)\n",
    "y_test_score4 = svm4.decision_function(X_test)\n",
    "\n",
    "false_pos_rate3, true_pos_rate3, _ = roc_curve(y_test, y_test_score3)\n",
    "roc_auc3 = auc(false_pos_rate3, true_pos_rate3)\n",
    "\n",
    "false_pos_rate4, true_pos_rate4, _ = roc_curve(y_test, y_test_score4)\n",
    "roc_auc4 = auc(false_pos_rate4, true_pos_rate4)\n",
    "\n",
    "ax2.plot(false_pos_rate3, true_pos_rate3, label='SVM $\\gamma = 2$ ROC curve (area = %0.2f)' % roc_auc3, color='b')\n",
    "ax2.plot(false_pos_rate4, true_pos_rate4, label='SVM $\\gamma = 50$ ROC curve (area = %0.2f)' % roc_auc4, color='r')\n",
    "ax2.set_title('Test Data')\n",
    "\n",
    "for ax in fig.axes:\n",
    "    ax.plot([0, 1], [0, 1], 'k--')\n",
    "    ax.set_xlim([-0.05, 1.0])\n",
    "    ax.set_ylim([0.0, 1.05])\n",
    "    ax.set_xlabel('False Positive Rate')\n",
    "    ax.set_ylabel('True Positive Rate')\n",
    "    ax.legend(loc=\"lower right\")\n",
    "plt.show()"
   ]
  },
  {
   "cell_type": "markdown",
   "metadata": {},
   "source": [
    "As expected, the more flexible model scores better on training data but worse on the test data."
   ]
  },
  {
   "cell_type": "markdown",
   "metadata": {},
   "source": [
    "### 9.6.4 SVM with Multiple Classes\n",
    "Adding a third class of observations"
   ]
  },
  {
   "cell_type": "code",
   "execution_count": 88,
   "metadata": {},
   "outputs": [
    {
     "data": {
      "image/png": "[encoded data removed]",
      "text/plain": [
       "<Figure size 432x288 with 1 Axes>"
      ]
     },
     "metadata": {},
     "output_type": "display_data"
    }
   ],
   "source": [
    "# Adding a third class of observations\n",
    "np.random.seed(8)\n",
    "XX = np.vstack([X, np.random.randn(50,2)]) # add additional data to existing X; X becomes (250,2) from (200,2)\n",
    "yy = np.hstack([y, np.repeat(0,50)])       # add additional data to existing y; y becomes (250,) from (200,)\n",
    "XX[yy ==0] = XX[yy == 0] +4  # move class 0 data to right and up by adding 4 from the original value\n",
    "\n",
    "plt.scatter(XX[:,0], XX[:,1], s=70, c=yy, cmap=plt.cm.prism)\n",
    "plt.xlabel('XX1')\n",
    "plt.ylabel('XX2')\n",
    "plt.show()  # -1: red; +1: green; 0: yellow"
   ]
  },
  {
   "cell_type": "code",
   "execution_count": 89,
   "metadata": {},
   "outputs": [
    {
     "data": {
      "text/plain": [
       "(250, 2)"
      ]
     },
     "execution_count": 89,
     "metadata": {},
     "output_type": "execute_result"
    }
   ],
   "source": [
    "XX.shape"
   ]
  },
  {
   "cell_type": "code",
   "execution_count": 90,
   "metadata": {},
   "outputs": [
    {
     "data": {
      "text/plain": [
       "array([-1, -1, -1, -1, -1, -1, -1, -1, -1, -1, -1, -1, -1, -1, -1, -1, -1,\n",
       "       -1, -1, -1, -1, -1, -1, -1, -1, -1, -1, -1, -1, -1, -1, -1, -1, -1,\n",
       "       -1, -1, -1, -1, -1, -1, -1, -1, -1, -1, -1, -1, -1, -1, -1, -1, -1,\n",
       "       -1, -1, -1, -1, -1, -1, -1, -1, -1, -1, -1, -1, -1, -1, -1, -1, -1,\n",
       "       -1, -1, -1, -1, -1, -1, -1, -1, -1, -1, -1, -1, -1, -1, -1, -1, -1,\n",
       "       -1, -1, -1, -1, -1, -1, -1, -1, -1, -1, -1, -1, -1, -1, -1, -1, -1,\n",
       "       -1, -1, -1, -1, -1, -1, -1, -1, -1, -1, -1, -1, -1, -1, -1, -1, -1,\n",
       "       -1, -1, -1, -1, -1, -1, -1, -1, -1, -1, -1, -1, -1, -1, -1, -1, -1,\n",
       "       -1, -1, -1, -1, -1, -1, -1, -1, -1, -1, -1, -1, -1, -1,  1,  1,  1,\n",
       "        1,  1,  1,  1,  1,  1,  1,  1,  1,  1,  1,  1,  1,  1,  1,  1,  1,\n",
       "        1,  1,  1,  1,  1,  1,  1,  1,  1,  1,  1,  1,  1,  1,  1,  1,  1,\n",
       "        1,  1,  1,  1,  1,  1,  1,  1,  1,  1,  1,  1,  1,  0,  0,  0,  0,\n",
       "        0,  0,  0,  0,  0,  0,  0,  0,  0,  0,  0,  0,  0,  0,  0,  0,  0,\n",
       "        0,  0,  0,  0,  0,  0,  0,  0,  0,  0,  0,  0,  0,  0,  0,  0,  0,\n",
       "        0,  0,  0,  0,  0,  0,  0,  0,  0,  0,  0,  0])"
      ]
     },
     "execution_count": 90,
     "metadata": {},
     "output_type": "execute_result"
    }
   ],
   "source": [
    "yy  "
   ]
  },
  {
   "cell_type": "code",
   "execution_count": 91,
   "metadata": {},
   "outputs": [
    {
     "data": {
      "text/plain": [
       "SVC(C=1, cache_size=200, class_weight=None, coef0=0.0,\n",
       "  decision_function_shape='ovr', degree=3, gamma='auto', kernel='rbf',\n",
       "  max_iter=-1, probability=False, random_state=None, shrinking=True,\n",
       "  tol=0.001, verbose=False)"
      ]
     },
     "execution_count": 91,
     "metadata": {},
     "output_type": "execute_result"
    }
   ],
   "source": [
    "svm5 = SVC(C=1, kernel='rbf')\n",
    "svm5.fit(XX, yy)"
   ]
  },
  {
   "cell_type": "code",
   "execution_count": 92,
   "metadata": {},
   "outputs": [
    {
     "data": {
      "image/png": "[encoded data removed]",
      "text/plain": [
       "<Figure size 432x288 with 1 Axes>"
      ]
     },
     "metadata": {},
     "output_type": "display_data"
    },
    {
     "name": "stdout",
     "output_type": "stream",
     "text": [
      "Number of support vectors:  133\n"
     ]
    }
   ],
   "source": [
    "plot_svc(svm5, XX, yy)"
   ]
  },
  {
   "cell_type": "markdown",
   "metadata": {},
   "source": [
    "### 9.6.5 Application to Gene Expression Data"
   ]
  },
  {
   "cell_type": "markdown",
   "metadata": {},
   "source": [
    "In R, exported the dataset from package 'ISLR' to csv files. \n",
    "We now examine the Khan data set, which consists of a number of tissue\n",
    "samples corresponding to four distinct types of small round blue cell tumors.\n",
    "For each tissue sample, gene expression measurements are available.\n",
    "The data set consists of training data, xtrain and ytrain, and testing data,\n",
    "xtest and ytest."
   ]
  },
  {
   "cell_type": "code",
   "execution_count": 93,
   "metadata": {},
   "outputs": [],
   "source": [
    "X_train = pd.read_csv('data/Khan_xtrain.csv').drop('Unnamed: 0', axis=1)\n",
    "y_train = pd.read_csv('data/Khan_ytrain.csv').drop('Unnamed: 0', axis=1).values.ravel()\n",
    "X_test = pd.read_csv('data/Khan_xtest.csv').drop('Unnamed: 0', axis=1)\n",
    "y_test = pd.read_csv('data/Khan_ytest.csv').drop('Unnamed: 0', axis=1).values.ravel()"
   ]
  },
  {
   "cell_type": "code",
   "execution_count": 94,
   "metadata": {},
   "outputs": [
    {
     "data": {
      "text/html": [
       "<div>\n",
       "<style scoped>\n",
       "    .dataframe tbody tr th:only-of-type {\n",
       "        vertical-align: middle;\n",
       "    }\n",
       "\n",
       "    .dataframe tbody tr th {\n",
       "        vertical-align: top;\n",
       "    }\n",
       "\n",
       "    .dataframe thead th {\n",
       "        text-align: right;\n",
       "    }\n",
       "</style>\n",
       "<table border=\"1\" class=\"dataframe\">\n",
       "  <thead>\n",
       "    <tr style=\"text-align: right;\">\n",
       "      <th></th>\n",
       "      <th>x</th>\n",
       "    </tr>\n",
       "  </thead>\n",
       "  <tbody>\n",
       "    <tr>\n",
       "      <th>0</th>\n",
       "      <td>2</td>\n",
       "    </tr>\n",
       "    <tr>\n",
       "      <th>1</th>\n",
       "      <td>2</td>\n",
       "    </tr>\n",
       "    <tr>\n",
       "      <th>2</th>\n",
       "      <td>2</td>\n",
       "    </tr>\n",
       "    <tr>\n",
       "      <th>3</th>\n",
       "      <td>2</td>\n",
       "    </tr>\n",
       "    <tr>\n",
       "      <th>4</th>\n",
       "      <td>2</td>\n",
       "    </tr>\n",
       "    <tr>\n",
       "      <th>5</th>\n",
       "      <td>2</td>\n",
       "    </tr>\n",
       "    <tr>\n",
       "      <th>6</th>\n",
       "      <td>2</td>\n",
       "    </tr>\n",
       "    <tr>\n",
       "      <th>7</th>\n",
       "      <td>2</td>\n",
       "    </tr>\n",
       "    <tr>\n",
       "      <th>8</th>\n",
       "      <td>2</td>\n",
       "    </tr>\n",
       "    <tr>\n",
       "      <th>9</th>\n",
       "      <td>2</td>\n",
       "    </tr>\n",
       "    <tr>\n",
       "      <th>10</th>\n",
       "      <td>2</td>\n",
       "    </tr>\n",
       "    <tr>\n",
       "      <th>11</th>\n",
       "      <td>2</td>\n",
       "    </tr>\n",
       "    <tr>\n",
       "      <th>12</th>\n",
       "      <td>2</td>\n",
       "    </tr>\n",
       "    <tr>\n",
       "      <th>13</th>\n",
       "      <td>2</td>\n",
       "    </tr>\n",
       "    <tr>\n",
       "      <th>14</th>\n",
       "      <td>2</td>\n",
       "    </tr>\n",
       "    <tr>\n",
       "      <th>15</th>\n",
       "      <td>2</td>\n",
       "    </tr>\n",
       "    <tr>\n",
       "      <th>16</th>\n",
       "      <td>2</td>\n",
       "    </tr>\n",
       "    <tr>\n",
       "      <th>17</th>\n",
       "      <td>2</td>\n",
       "    </tr>\n",
       "    <tr>\n",
       "      <th>18</th>\n",
       "      <td>2</td>\n",
       "    </tr>\n",
       "    <tr>\n",
       "      <th>19</th>\n",
       "      <td>2</td>\n",
       "    </tr>\n",
       "    <tr>\n",
       "      <th>20</th>\n",
       "      <td>2</td>\n",
       "    </tr>\n",
       "    <tr>\n",
       "      <th>21</th>\n",
       "      <td>2</td>\n",
       "    </tr>\n",
       "    <tr>\n",
       "      <th>22</th>\n",
       "      <td>2</td>\n",
       "    </tr>\n",
       "    <tr>\n",
       "      <th>23</th>\n",
       "      <td>4</td>\n",
       "    </tr>\n",
       "    <tr>\n",
       "      <th>24</th>\n",
       "      <td>4</td>\n",
       "    </tr>\n",
       "    <tr>\n",
       "      <th>25</th>\n",
       "      <td>4</td>\n",
       "    </tr>\n",
       "    <tr>\n",
       "      <th>26</th>\n",
       "      <td>4</td>\n",
       "    </tr>\n",
       "    <tr>\n",
       "      <th>27</th>\n",
       "      <td>4</td>\n",
       "    </tr>\n",
       "    <tr>\n",
       "      <th>28</th>\n",
       "      <td>4</td>\n",
       "    </tr>\n",
       "    <tr>\n",
       "      <th>29</th>\n",
       "      <td>4</td>\n",
       "    </tr>\n",
       "    <tr>\n",
       "      <th>...</th>\n",
       "      <td>...</td>\n",
       "    </tr>\n",
       "    <tr>\n",
       "      <th>33</th>\n",
       "      <td>4</td>\n",
       "    </tr>\n",
       "    <tr>\n",
       "      <th>34</th>\n",
       "      <td>4</td>\n",
       "    </tr>\n",
       "    <tr>\n",
       "      <th>35</th>\n",
       "      <td>4</td>\n",
       "    </tr>\n",
       "    <tr>\n",
       "      <th>36</th>\n",
       "      <td>4</td>\n",
       "    </tr>\n",
       "    <tr>\n",
       "      <th>37</th>\n",
       "      <td>4</td>\n",
       "    </tr>\n",
       "    <tr>\n",
       "      <th>38</th>\n",
       "      <td>4</td>\n",
       "    </tr>\n",
       "    <tr>\n",
       "      <th>39</th>\n",
       "      <td>4</td>\n",
       "    </tr>\n",
       "    <tr>\n",
       "      <th>40</th>\n",
       "      <td>4</td>\n",
       "    </tr>\n",
       "    <tr>\n",
       "      <th>41</th>\n",
       "      <td>4</td>\n",
       "    </tr>\n",
       "    <tr>\n",
       "      <th>42</th>\n",
       "      <td>4</td>\n",
       "    </tr>\n",
       "    <tr>\n",
       "      <th>43</th>\n",
       "      <td>3</td>\n",
       "    </tr>\n",
       "    <tr>\n",
       "      <th>44</th>\n",
       "      <td>3</td>\n",
       "    </tr>\n",
       "    <tr>\n",
       "      <th>45</th>\n",
       "      <td>3</td>\n",
       "    </tr>\n",
       "    <tr>\n",
       "      <th>46</th>\n",
       "      <td>3</td>\n",
       "    </tr>\n",
       "    <tr>\n",
       "      <th>47</th>\n",
       "      <td>3</td>\n",
       "    </tr>\n",
       "    <tr>\n",
       "      <th>48</th>\n",
       "      <td>3</td>\n",
       "    </tr>\n",
       "    <tr>\n",
       "      <th>49</th>\n",
       "      <td>3</td>\n",
       "    </tr>\n",
       "    <tr>\n",
       "      <th>50</th>\n",
       "      <td>3</td>\n",
       "    </tr>\n",
       "    <tr>\n",
       "      <th>51</th>\n",
       "      <td>3</td>\n",
       "    </tr>\n",
       "    <tr>\n",
       "      <th>52</th>\n",
       "      <td>3</td>\n",
       "    </tr>\n",
       "    <tr>\n",
       "      <th>53</th>\n",
       "      <td>3</td>\n",
       "    </tr>\n",
       "    <tr>\n",
       "      <th>54</th>\n",
       "      <td>3</td>\n",
       "    </tr>\n",
       "    <tr>\n",
       "      <th>55</th>\n",
       "      <td>1</td>\n",
       "    </tr>\n",
       "    <tr>\n",
       "      <th>56</th>\n",
       "      <td>1</td>\n",
       "    </tr>\n",
       "    <tr>\n",
       "      <th>57</th>\n",
       "      <td>1</td>\n",
       "    </tr>\n",
       "    <tr>\n",
       "      <th>58</th>\n",
       "      <td>1</td>\n",
       "    </tr>\n",
       "    <tr>\n",
       "      <th>59</th>\n",
       "      <td>1</td>\n",
       "    </tr>\n",
       "    <tr>\n",
       "      <th>60</th>\n",
       "      <td>1</td>\n",
       "    </tr>\n",
       "    <tr>\n",
       "      <th>61</th>\n",
       "      <td>1</td>\n",
       "    </tr>\n",
       "    <tr>\n",
       "      <th>62</th>\n",
       "      <td>1</td>\n",
       "    </tr>\n",
       "  </tbody>\n",
       "</table>\n",
       "<p>63 rows × 1 columns</p>\n",
       "</div>"
      ],
      "text/plain": [
       "    x\n",
       "0   2\n",
       "1   2\n",
       "2   2\n",
       "3   2\n",
       "4   2\n",
       "5   2\n",
       "6   2\n",
       "7   2\n",
       "8   2\n",
       "9   2\n",
       "10  2\n",
       "11  2\n",
       "12  2\n",
       "13  2\n",
       "14  2\n",
       "15  2\n",
       "16  2\n",
       "17  2\n",
       "18  2\n",
       "19  2\n",
       "20  2\n",
       "21  2\n",
       "22  2\n",
       "23  4\n",
       "24  4\n",
       "25  4\n",
       "26  4\n",
       "27  4\n",
       "28  4\n",
       "29  4\n",
       ".. ..\n",
       "33  4\n",
       "34  4\n",
       "35  4\n",
       "36  4\n",
       "37  4\n",
       "38  4\n",
       "39  4\n",
       "40  4\n",
       "41  4\n",
       "42  4\n",
       "43  3\n",
       "44  3\n",
       "45  3\n",
       "46  3\n",
       "47  3\n",
       "48  3\n",
       "49  3\n",
       "50  3\n",
       "51  3\n",
       "52  3\n",
       "53  3\n",
       "54  3\n",
       "55  1\n",
       "56  1\n",
       "57  1\n",
       "58  1\n",
       "59  1\n",
       "60  1\n",
       "61  1\n",
       "62  1\n",
       "\n",
       "[63 rows x 1 columns]"
      ]
     },
     "execution_count": 94,
     "metadata": {},
     "output_type": "execute_result"
    }
   ],
   "source": [
    "pd.read_csv('data/Khan_ytrain.csv').drop('Unnamed: 0', axis=1)"
   ]
  },
  {
   "cell_type": "code",
   "execution_count": 95,
   "metadata": {},
   "outputs": [
    {
     "data": {
      "text/plain": [
       "array([[2],\n",
       "       [2],\n",
       "       [2],\n",
       "       [2],\n",
       "       [2],\n",
       "       [2],\n",
       "       [2],\n",
       "       [2],\n",
       "       [2],\n",
       "       [2],\n",
       "       [2],\n",
       "       [2],\n",
       "       [2],\n",
       "       [2],\n",
       "       [2],\n",
       "       [2],\n",
       "       [2],\n",
       "       [2],\n",
       "       [2],\n",
       "       [2],\n",
       "       [2],\n",
       "       [2],\n",
       "       [2],\n",
       "       [4],\n",
       "       [4],\n",
       "       [4],\n",
       "       [4],\n",
       "       [4],\n",
       "       [4],\n",
       "       [4],\n",
       "       [4],\n",
       "       [4],\n",
       "       [4],\n",
       "       [4],\n",
       "       [4],\n",
       "       [4],\n",
       "       [4],\n",
       "       [4],\n",
       "       [4],\n",
       "       [4],\n",
       "       [4],\n",
       "       [4],\n",
       "       [4],\n",
       "       [3],\n",
       "       [3],\n",
       "       [3],\n",
       "       [3],\n",
       "       [3],\n",
       "       [3],\n",
       "       [3],\n",
       "       [3],\n",
       "       [3],\n",
       "       [3],\n",
       "       [3],\n",
       "       [3],\n",
       "       [1],\n",
       "       [1],\n",
       "       [1],\n",
       "       [1],\n",
       "       [1],\n",
       "       [1],\n",
       "       [1],\n",
       "       [1]], dtype=int64)"
      ]
     },
     "execution_count": 95,
     "metadata": {},
     "output_type": "execute_result"
    }
   ],
   "source": [
    "pd.read_csv('data/Khan_ytrain.csv').drop('Unnamed: 0', axis=1).values"
   ]
  },
  {
   "cell_type": "code",
   "execution_count": 96,
   "metadata": {},
   "outputs": [
    {
     "data": {
      "text/plain": [
       "array([2, 2, 2, 2, 2, 2, 2, 2, 2, 2, 2, 2, 2, 2, 2, 2, 2, 2, 2, 2, 2, 2,\n",
       "       2, 4, 4, 4, 4, 4, 4, 4, 4, 4, 4, 4, 4, 4, 4, 4, 4, 4, 4, 4, 4, 3,\n",
       "       3, 3, 3, 3, 3, 3, 3, 3, 3, 3, 3, 1, 1, 1, 1, 1, 1, 1, 1],\n",
       "      dtype=int64)"
      ]
     },
     "execution_count": 96,
     "metadata": {},
     "output_type": "execute_result"
    }
   ],
   "source": [
    "pd.read_csv('data/Khan_ytrain.csv').drop('Unnamed: 0', axis=1).values.ravel()"
   ]
  },
  {
   "cell_type": "code",
   "execution_count": 97,
   "metadata": {},
   "outputs": [
    {
     "data": {
      "text/plain": [
       "1     8\n",
       "2    23\n",
       "3    12\n",
       "4    20\n",
       "dtype: int64"
      ]
     },
     "execution_count": 97,
     "metadata": {},
     "output_type": "execute_result"
    }
   ],
   "source": [
    "# y_train counts\n",
    "pd.Series(y_train).value_counts(sort=False)"
   ]
  },
  {
   "cell_type": "code",
   "execution_count": 98,
   "metadata": {},
   "outputs": [
    {
     "data": {
      "text/plain": [
       "1    3\n",
       "2    6\n",
       "3    6\n",
       "4    5\n",
       "dtype: int64"
      ]
     },
     "execution_count": 98,
     "metadata": {},
     "output_type": "execute_result"
    }
   ],
   "source": [
    "# y_test counts\n",
    "pd.Series(y_test).value_counts(sort=False)"
   ]
  },
  {
   "cell_type": "code",
   "execution_count": 99,
   "metadata": {},
   "outputs": [
    {
     "data": {
      "text/plain": [
       "(63, 2308)"
      ]
     },
     "execution_count": 99,
     "metadata": {},
     "output_type": "execute_result"
    }
   ],
   "source": [
    "X_train.shape"
   ]
  },
  {
   "cell_type": "code",
   "execution_count": 100,
   "metadata": {},
   "outputs": [
    {
     "data": {
      "text/plain": [
       "(63,)"
      ]
     },
     "execution_count": 100,
     "metadata": {},
     "output_type": "execute_result"
    }
   ],
   "source": [
    "y_train.shape"
   ]
  },
  {
   "cell_type": "code",
   "execution_count": 101,
   "metadata": {},
   "outputs": [
    {
     "data": {
      "text/html": [
       "<div>\n",
       "<style scoped>\n",
       "    .dataframe tbody tr th:only-of-type {\n",
       "        vertical-align: middle;\n",
       "    }\n",
       "\n",
       "    .dataframe tbody tr th {\n",
       "        vertical-align: top;\n",
       "    }\n",
       "\n",
       "    .dataframe thead th {\n",
       "        text-align: right;\n",
       "    }\n",
       "</style>\n",
       "<table border=\"1\" class=\"dataframe\">\n",
       "  <thead>\n",
       "    <tr style=\"text-align: right;\">\n",
       "      <th></th>\n",
       "      <th>V1</th>\n",
       "      <th>V2</th>\n",
       "      <th>V3</th>\n",
       "      <th>V4</th>\n",
       "      <th>V5</th>\n",
       "      <th>V6</th>\n",
       "      <th>V7</th>\n",
       "      <th>V8</th>\n",
       "      <th>V9</th>\n",
       "      <th>V10</th>\n",
       "      <th>...</th>\n",
       "      <th>V2299</th>\n",
       "      <th>V2300</th>\n",
       "      <th>V2301</th>\n",
       "      <th>V2302</th>\n",
       "      <th>V2303</th>\n",
       "      <th>V2304</th>\n",
       "      <th>V2305</th>\n",
       "      <th>V2306</th>\n",
       "      <th>V2307</th>\n",
       "      <th>V2308</th>\n",
       "    </tr>\n",
       "  </thead>\n",
       "  <tbody>\n",
       "    <tr>\n",
       "      <th>count</th>\n",
       "      <td>63.000000</td>\n",
       "      <td>63.000000</td>\n",
       "      <td>63.000000</td>\n",
       "      <td>63.000000</td>\n",
       "      <td>63.000000</td>\n",
       "      <td>63.000000</td>\n",
       "      <td>63.000000</td>\n",
       "      <td>63.000000</td>\n",
       "      <td>63.000000</td>\n",
       "      <td>63.000000</td>\n",
       "      <td>...</td>\n",
       "      <td>63.000000</td>\n",
       "      <td>63.000000</td>\n",
       "      <td>63.000000</td>\n",
       "      <td>63.000000</td>\n",
       "      <td>63.000000</td>\n",
       "      <td>63.000000</td>\n",
       "      <td>63.000000</td>\n",
       "      <td>63.000000</td>\n",
       "      <td>63.000000</td>\n",
       "      <td>63.000000</td>\n",
       "    </tr>\n",
       "    <tr>\n",
       "      <th>mean</th>\n",
       "      <td>0.146931</td>\n",
       "      <td>-1.739001</td>\n",
       "      <td>-0.248668</td>\n",
       "      <td>-1.078090</td>\n",
       "      <td>-1.385706</td>\n",
       "      <td>0.517289</td>\n",
       "      <td>1.552154</td>\n",
       "      <td>0.095126</td>\n",
       "      <td>0.162019</td>\n",
       "      <td>0.345152</td>\n",
       "      <td>...</td>\n",
       "      <td>-0.436448</td>\n",
       "      <td>-0.443471</td>\n",
       "      <td>-1.365441</td>\n",
       "      <td>-0.653703</td>\n",
       "      <td>-0.477985</td>\n",
       "      <td>-1.857011</td>\n",
       "      <td>-1.741823</td>\n",
       "      <td>-1.067887</td>\n",
       "      <td>-0.507258</td>\n",
       "      <td>-1.566933</td>\n",
       "    </tr>\n",
       "    <tr>\n",
       "      <th>std</th>\n",
       "      <td>0.853339</td>\n",
       "      <td>0.905571</td>\n",
       "      <td>0.701464</td>\n",
       "      <td>1.190656</td>\n",
       "      <td>0.653898</td>\n",
       "      <td>0.661113</td>\n",
       "      <td>0.365211</td>\n",
       "      <td>0.488837</td>\n",
       "      <td>0.434185</td>\n",
       "      <td>0.520687</td>\n",
       "      <td>...</td>\n",
       "      <td>0.648043</td>\n",
       "      <td>0.640036</td>\n",
       "      <td>0.706647</td>\n",
       "      <td>0.545154</td>\n",
       "      <td>1.006027</td>\n",
       "      <td>0.930764</td>\n",
       "      <td>0.898833</td>\n",
       "      <td>0.579749</td>\n",
       "      <td>0.577504</td>\n",
       "      <td>0.632065</td>\n",
       "    </tr>\n",
       "    <tr>\n",
       "      <th>min</th>\n",
       "      <td>-2.683846</td>\n",
       "      <td>-3.007805</td>\n",
       "      <td>-1.851509</td>\n",
       "      <td>-2.956512</td>\n",
       "      <td>-3.216379</td>\n",
       "      <td>-1.118101</td>\n",
       "      <td>0.776063</td>\n",
       "      <td>-1.218072</td>\n",
       "      <td>-0.639227</td>\n",
       "      <td>-1.572142</td>\n",
       "      <td>...</td>\n",
       "      <td>-2.276917</td>\n",
       "      <td>-2.226550</td>\n",
       "      <td>-2.847312</td>\n",
       "      <td>-2.107018</td>\n",
       "      <td>-2.950759</td>\n",
       "      <td>-4.803621</td>\n",
       "      <td>-5.496768</td>\n",
       "      <td>-3.146555</td>\n",
       "      <td>-2.691193</td>\n",
       "      <td>-3.110021</td>\n",
       "    </tr>\n",
       "    <tr>\n",
       "      <th>25%</th>\n",
       "      <td>-0.081323</td>\n",
       "      <td>-2.427080</td>\n",
       "      <td>-0.634168</td>\n",
       "      <td>-2.121514</td>\n",
       "      <td>-1.860178</td>\n",
       "      <td>0.086846</td>\n",
       "      <td>1.288394</td>\n",
       "      <td>-0.321716</td>\n",
       "      <td>-0.123633</td>\n",
       "      <td>0.052318</td>\n",
       "      <td>...</td>\n",
       "      <td>-0.826799</td>\n",
       "      <td>-0.811977</td>\n",
       "      <td>-1.897463</td>\n",
       "      <td>-1.022860</td>\n",
       "      <td>-1.008597</td>\n",
       "      <td>-2.408377</td>\n",
       "      <td>-2.149306</td>\n",
       "      <td>-1.388315</td>\n",
       "      <td>-0.812063</td>\n",
       "      <td>-1.992975</td>\n",
       "    </tr>\n",
       "    <tr>\n",
       "      <th>50%</th>\n",
       "      <td>0.244200</td>\n",
       "      <td>-1.949818</td>\n",
       "      <td>-0.113617</td>\n",
       "      <td>-1.274395</td>\n",
       "      <td>-1.211669</td>\n",
       "      <td>0.542266</td>\n",
       "      <td>1.510170</td>\n",
       "      <td>0.137324</td>\n",
       "      <td>0.133569</td>\n",
       "      <td>0.386554</td>\n",
       "      <td>...</td>\n",
       "      <td>-0.290887</td>\n",
       "      <td>-0.408119</td>\n",
       "      <td>-1.387495</td>\n",
       "      <td>-0.658939</td>\n",
       "      <td>-0.306525</td>\n",
       "      <td>-1.641445</td>\n",
       "      <td>-1.709258</td>\n",
       "      <td>-1.115962</td>\n",
       "      <td>-0.428939</td>\n",
       "      <td>-1.500584</td>\n",
       "    </tr>\n",
       "    <tr>\n",
       "      <th>75%</th>\n",
       "      <td>0.735390</td>\n",
       "      <td>-1.318729</td>\n",
       "      <td>0.253025</td>\n",
       "      <td>0.235544</td>\n",
       "      <td>-0.882397</td>\n",
       "      <td>0.944085</td>\n",
       "      <td>1.791494</td>\n",
       "      <td>0.437873</td>\n",
       "      <td>0.455650</td>\n",
       "      <td>0.693397</td>\n",
       "      <td>...</td>\n",
       "      <td>-0.000435</td>\n",
       "      <td>-0.026909</td>\n",
       "      <td>-0.813623</td>\n",
       "      <td>-0.356680</td>\n",
       "      <td>0.313942</td>\n",
       "      <td>-1.199981</td>\n",
       "      <td>-1.124832</td>\n",
       "      <td>-0.866431</td>\n",
       "      <td>-0.178323</td>\n",
       "      <td>-1.209827</td>\n",
       "    </tr>\n",
       "    <tr>\n",
       "      <th>max</th>\n",
       "      <td>1.285507</td>\n",
       "      <td>0.654770</td>\n",
       "      <td>1.160742</td>\n",
       "      <td>0.583779</td>\n",
       "      <td>-0.264747</td>\n",
       "      <td>2.452728</td>\n",
       "      <td>2.864085</td>\n",
       "      <td>0.956626</td>\n",
       "      <td>1.255815</td>\n",
       "      <td>1.122492</td>\n",
       "      <td>...</td>\n",
       "      <td>0.654146</td>\n",
       "      <td>1.281323</td>\n",
       "      <td>0.210180</td>\n",
       "      <td>0.588231</td>\n",
       "      <td>1.040171</td>\n",
       "      <td>-0.207886</td>\n",
       "      <td>-0.153268</td>\n",
       "      <td>0.445967</td>\n",
       "      <td>0.570471</td>\n",
       "      <td>0.041142</td>\n",
       "    </tr>\n",
       "  </tbody>\n",
       "</table>\n",
       "<p>8 rows × 2308 columns</p>\n",
       "</div>"
      ],
      "text/plain": [
       "              V1         V2         V3         V4         V5         V6  \\\n",
       "count  63.000000  63.000000  63.000000  63.000000  63.000000  63.000000   \n",
       "mean    0.146931  -1.739001  -0.248668  -1.078090  -1.385706   0.517289   \n",
       "std     0.853339   0.905571   0.701464   1.190656   0.653898   0.661113   \n",
       "min    -2.683846  -3.007805  -1.851509  -2.956512  -3.216379  -1.118101   \n",
       "25%    -0.081323  -2.427080  -0.634168  -2.121514  -1.860178   0.086846   \n",
       "50%     0.244200  -1.949818  -0.113617  -1.274395  -1.211669   0.542266   \n",
       "75%     0.735390  -1.318729   0.253025   0.235544  -0.882397   0.944085   \n",
       "max     1.285507   0.654770   1.160742   0.583779  -0.264747   2.452728   \n",
       "\n",
       "              V7         V8         V9        V10    ...          V2299  \\\n",
       "count  63.000000  63.000000  63.000000  63.000000    ...      63.000000   \n",
       "mean    1.552154   0.095126   0.162019   0.345152    ...      -0.436448   \n",
       "std     0.365211   0.488837   0.434185   0.520687    ...       0.648043   \n",
       "min     0.776063  -1.218072  -0.639227  -1.572142    ...      -2.276917   \n",
       "25%     1.288394  -0.321716  -0.123633   0.052318    ...      -0.826799   \n",
       "50%     1.510170   0.137324   0.133569   0.386554    ...      -0.290887   \n",
       "75%     1.791494   0.437873   0.455650   0.693397    ...      -0.000435   \n",
       "max     2.864085   0.956626   1.255815   1.122492    ...       0.654146   \n",
       "\n",
       "           V2300      V2301      V2302      V2303      V2304      V2305  \\\n",
       "count  63.000000  63.000000  63.000000  63.000000  63.000000  63.000000   \n",
       "mean   -0.443471  -1.365441  -0.653703  -0.477985  -1.857011  -1.741823   \n",
       "std     0.640036   0.706647   0.545154   1.006027   0.930764   0.898833   \n",
       "min    -2.226550  -2.847312  -2.107018  -2.950759  -4.803621  -5.496768   \n",
       "25%    -0.811977  -1.897463  -1.022860  -1.008597  -2.408377  -2.149306   \n",
       "50%    -0.408119  -1.387495  -0.658939  -0.306525  -1.641445  -1.709258   \n",
       "75%    -0.026909  -0.813623  -0.356680   0.313942  -1.199981  -1.124832   \n",
       "max     1.281323   0.210180   0.588231   1.040171  -0.207886  -0.153268   \n",
       "\n",
       "           V2306      V2307      V2308  \n",
       "count  63.000000  63.000000  63.000000  \n",
       "mean   -1.067887  -0.507258  -1.566933  \n",
       "std     0.579749   0.577504   0.632065  \n",
       "min    -3.146555  -2.691193  -3.110021  \n",
       "25%    -1.388315  -0.812063  -1.992975  \n",
       "50%    -1.115962  -0.428939  -1.500584  \n",
       "75%    -0.866431  -0.178323  -1.209827  \n",
       "max     0.445967   0.570471   0.041142  \n",
       "\n",
       "[8 rows x 2308 columns]"
      ]
     },
     "execution_count": 101,
     "metadata": {},
     "output_type": "execute_result"
    }
   ],
   "source": [
    "X_train.describe()"
   ]
  },
  {
   "cell_type": "markdown",
   "metadata": {},
   "source": [
    "We will use a support vector approach to predict cancer subtype using gene\n",
    "expression measurements. In this data set, there are a very large number\n",
    "of features relative to the number of observations. This suggests that we\n",
    "should use a linear kernel, because the additional flexibility that will result\n",
    "from using a polynomial or radial kernel is unnecessary."
   ]
  },
  {
   "cell_type": "code",
   "execution_count": 102,
   "metadata": {},
   "outputs": [
    {
     "data": {
      "text/plain": [
       "SVC(C=1.0, cache_size=200, class_weight=None, coef0=0.0,\n",
       "  decision_function_shape='ovr', degree=3, gamma='auto', kernel='linear',\n",
       "  max_iter=-1, probability=False, random_state=None, shrinking=True,\n",
       "  tol=0.001, verbose=False)"
      ]
     },
     "execution_count": 102,
     "metadata": {},
     "output_type": "execute_result"
    }
   ],
   "source": [
    "# This model gives identical results to the svm() of the R package e1071, also based on libsvm library.\n",
    "svc = SVC(kernel='linear')\n",
    "\n",
    "# This model is based on liblinear library. \n",
    "#svc = LinearSVC()\n",
    "\n",
    "svc.fit(X_train, y_train)"
   ]
  },
  {
   "cell_type": "code",
   "execution_count": 103,
   "metadata": {},
   "outputs": [
    {
     "name": "stdout",
     "output_type": "stream",
     "text": [
      "True       1   2   3   4\n",
      "Predicted               \n",
      "1          8   0   0   0\n",
      "2          0  23   0   0\n",
      "3          0   0  12   0\n",
      "4          0   0   0  20\n"
     ]
    }
   ],
   "source": [
    "cm = confusion_matrix(y_train, svc.predict(X_train))\n",
    "cm_df = pd.DataFrame(cm.T, index=svc.classes_, columns=svc.classes_)\n",
    "cm_df.index.name = 'Predicted'\n",
    "cm_df.columns.name = 'True'\n",
    "print(cm_df)"
   ]
  },
  {
   "cell_type": "markdown",
   "metadata": {},
   "source": [
    "We see that there are no training errors. In fact, this is not surprising,\n",
    "because the large number of variables relative to the number of observations\n",
    "implies that it is easy to find hyperplanes that fully separate the classes.We\n",
    "are most interested not in the support vector classifier’s performance on the\n",
    "training observations, but rather its performance on the test observations."
   ]
  },
  {
   "cell_type": "code",
   "execution_count": 104,
   "metadata": {},
   "outputs": [
    {
     "name": "stdout",
     "output_type": "stream",
     "text": [
      "True       1  2  3  4\n",
      "Predicted            \n",
      "1          3  0  0  0\n",
      "2          0  6  2  0\n",
      "3          0  0  4  0\n",
      "4          0  0  0  5\n"
     ]
    }
   ],
   "source": [
    "cm = confusion_matrix(y_test, svc.predict(X_test))\n",
    "cm_df = pd.DataFrame(cm.T, index=svc.classes_, columns=svc.classes_)\n",
    "cm_df.index.name = 'Predicted'\n",
    "cm_df.columns.name = 'True'\n",
    "print(cm_df)"
   ]
  }
 ],
 "metadata": {
  "anaconda-cloud": {},
  "kernelspec": {
   "display_name": "Python 2",
   "language": "python",
   "name": "python2"
  },
  "language_info": {
   "codemirror_mode": {
    "name": "ipython",
    "version": 2
   },
   "file_extension": ".py",
   "mimetype": "text/x-python",
   "name": "python",
   "nbconvert_exporter": "python",
   "pygments_lexer": "ipython2",
   "version": "2.7.15"
  }
 },
 "nbformat": 4,
 "nbformat_minor": 1
}
